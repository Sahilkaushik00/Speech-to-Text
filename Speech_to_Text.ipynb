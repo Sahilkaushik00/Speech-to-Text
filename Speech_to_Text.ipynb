{
 "cells": [
  {
   "cell_type": "code",
   "execution_count": 15,
   "id": "342037aa",
   "metadata": {},
   "outputs": [
    {
     "name": "stdout",
     "output_type": "stream",
     "text": [
      "Requirement already satisfied: SpeechRecognition in c:\\users\\sachin\\anaconda3\\lib\\site-packages (3.10.1)\n",
      "Requirement already satisfied: requests>=2.26.0 in c:\\users\\sachin\\anaconda3\\lib\\site-packages (from SpeechRecognition) (2.31.0)\n",
      "Requirement already satisfied: typing-extensions in c:\\users\\sachin\\anaconda3\\lib\\site-packages (from SpeechRecognition) (4.9.0)\n",
      "Requirement already satisfied: charset-normalizer<4,>=2 in c:\\users\\sachin\\anaconda3\\lib\\site-packages (from requests>=2.26.0->SpeechRecognition) (3.1.0)\n",
      "Requirement already satisfied: idna<4,>=2.5 in c:\\users\\sachin\\anaconda3\\lib\\site-packages (from requests>=2.26.0->SpeechRecognition) (2.10)\n",
      "Requirement already satisfied: urllib3<3,>=1.21.1 in c:\\users\\sachin\\anaconda3\\lib\\site-packages (from requests>=2.26.0->SpeechRecognition) (1.26.4)\n",
      "Requirement already satisfied: certifi>=2017.4.17 in c:\\users\\sachin\\anaconda3\\lib\\site-packages (from requests>=2.26.0->SpeechRecognition) (2023.7.22)\n"
     ]
    },
    {
     "name": "stderr",
     "output_type": "stream",
     "text": [
      "\n",
      "[notice] A new release of pip is available: 23.3.1 -> 23.3.2\n",
      "[notice] To update, run: python.exe -m pip install --upgrade pip\n",
      "'sudo' is not recognized as an internal or external command,\n",
      "operable program or batch file.\n"
     ]
    },
    {
     "name": "stdout",
     "output_type": "stream",
     "text": [
      "Requirement already satisfied: pyaudio in c:\\users\\sachin\\anaconda3\\lib\\site-packages (0.2.14)\n"
     ]
    },
    {
     "name": "stderr",
     "output_type": "stream",
     "text": [
      "\n",
      "[notice] A new release of pip is available: 23.3.1 -> 23.3.2\n",
      "[notice] To update, run: python.exe -m pip install --upgrade pip\n"
     ]
    },
    {
     "name": "stdout",
     "output_type": "stream",
     "text": [
      "Requirement already satisfied: openai-whisper in c:\\users\\sachin\\anaconda3\\lib\\site-packages (20231117)\n",
      "Requirement already satisfied: numba in c:\\users\\sachin\\anaconda3\\lib\\site-packages (from openai-whisper) (0.53.1)\n",
      "Requirement already satisfied: numpy in c:\\users\\sachin\\anaconda3\\lib\\site-packages (from openai-whisper) (1.22.4)\n",
      "Requirement already satisfied: torch in c:\\users\\sachin\\anaconda3\\lib\\site-packages (from openai-whisper) (2.1.2)\n",
      "Requirement already satisfied: tqdm in c:\\users\\sachin\\anaconda3\\lib\\site-packages (from openai-whisper) (4.59.0)\n",
      "Requirement already satisfied: more-itertools in c:\\users\\sachin\\anaconda3\\lib\\site-packages (from openai-whisper) (8.7.0)\n",
      "Requirement already satisfied: tiktoken in c:\\users\\sachin\\anaconda3\\lib\\site-packages (from openai-whisper) (0.5.2)\n",
      "Requirement already satisfied: llvmlite<0.37,>=0.36.0rc1 in c:\\users\\sachin\\anaconda3\\lib\\site-packages (from numba->openai-whisper) (0.36.0)\n",
      "Requirement already satisfied: setuptools in c:\\users\\sachin\\anaconda3\\lib\\site-packages (from numba->openai-whisper) (68.2.2)\n",
      "Requirement already satisfied: regex>=2022.1.18 in c:\\users\\sachin\\anaconda3\\lib\\site-packages (from tiktoken->openai-whisper) (2023.10.3)\n",
      "Requirement already satisfied: requests>=2.26.0 in c:\\users\\sachin\\anaconda3\\lib\\site-packages (from tiktoken->openai-whisper) (2.31.0)\n",
      "Requirement already satisfied: filelock in c:\\users\\sachin\\anaconda3\\lib\\site-packages (from torch->openai-whisper) (3.0.12)\n",
      "Requirement already satisfied: typing-extensions in c:\\users\\sachin\\anaconda3\\lib\\site-packages (from torch->openai-whisper) (4.9.0)\n",
      "Requirement already satisfied: sympy in c:\\users\\sachin\\anaconda3\\lib\\site-packages (from torch->openai-whisper) (1.8)\n",
      "Requirement already satisfied: networkx in c:\\users\\sachin\\anaconda3\\lib\\site-packages (from torch->openai-whisper) (2.5)\n",
      "Requirement already satisfied: jinja2 in c:\\users\\sachin\\anaconda3\\lib\\site-packages (from torch->openai-whisper) (2.11.3)\n",
      "Requirement already satisfied: fsspec in c:\\users\\sachin\\anaconda3\\lib\\site-packages (from torch->openai-whisper) (0.9.0)\n",
      "Requirement already satisfied: charset-normalizer<4,>=2 in c:\\users\\sachin\\anaconda3\\lib\\site-packages (from requests>=2.26.0->tiktoken->openai-whisper) (3.1.0)\n",
      "Requirement already satisfied: idna<4,>=2.5 in c:\\users\\sachin\\anaconda3\\lib\\site-packages (from requests>=2.26.0->tiktoken->openai-whisper) (2.10)\n",
      "Requirement already satisfied: urllib3<3,>=1.21.1 in c:\\users\\sachin\\anaconda3\\lib\\site-packages (from requests>=2.26.0->tiktoken->openai-whisper) (1.26.4)\n",
      "Requirement already satisfied: certifi>=2017.4.17 in c:\\users\\sachin\\anaconda3\\lib\\site-packages (from requests>=2.26.0->tiktoken->openai-whisper) (2023.7.22)\n",
      "Requirement already satisfied: MarkupSafe>=0.23 in c:\\users\\sachin\\anaconda3\\lib\\site-packages (from jinja2->torch->openai-whisper) (1.1.1)\n",
      "Requirement already satisfied: decorator>=4.3.0 in c:\\users\\sachin\\anaconda3\\lib\\site-packages (from networkx->torch->openai-whisper) (5.0.6)\n",
      "Requirement already satisfied: mpmath>=0.19 in c:\\users\\sachin\\anaconda3\\lib\\site-packages (from sympy->torch->openai-whisper) (1.2.1)\n"
     ]
    },
    {
     "name": "stderr",
     "output_type": "stream",
     "text": [
      "\n",
      "[notice] A new release of pip is available: 23.3.1 -> 23.3.2\n",
      "[notice] To update, run: python.exe -m pip install --upgrade pip\n"
     ]
    }
   ],
   "source": [
    "!pip install SpeechRecognition\n",
    "!pip install pyaudio\n",
    "!pip install -U openai-whisper"
   ]
  },
  {
   "cell_type": "code",
   "execution_count": 18,
   "id": "593b241f",
   "metadata": {},
   "outputs": [
    {
     "name": "stdout",
     "output_type": "stream",
     "text": [
      "Choose an option:\n",
      "1. Real-time microphone input\n",
      "2. Upload a file\n",
      "Enter your choice (1 or 2): 1\n",
      "Listening...\n",
      "Audio captured successfully. Recognizing...\n",
      "Text:  Hi, thanks for considering my application.\n"
     ]
    }
   ],
   "source": [
    "import speech_recognition as sr\n",
    "import fileinput\n",
    "import whisper\n",
    "def recognize_audio(audio):\n",
    "    recognizer = sr.Recognizer()\n",
    "\n",
    "    try:\n",
    "        # Using OpenAI's Whisper ASR\n",
    "        text = recognizer.recognize_whisper(audio)\n",
    "        print(f\"Text: {text}\")\n",
    "\n",
    "    except sr.UnknownValueError:\n",
    "        print(\"could not understand audio.\")\n",
    "\n",
    "    except sr.RequestError as e:\n",
    "        print(f\"Could not request results; {e}\")\n",
    "\n",
    "def listen_microphone():\n",
    "    recognizer = sr.Recognizer()\n",
    "\n",
    "    with sr.Microphone() as source:\n",
    "        print(\"Listening...\")\n",
    "\n",
    "        try:\n",
    "            audio = recognizer.listen(source, timeout=5)\n",
    "            print(\"Audio captured successfully. Recognizing...\")\n",
    "            recognize_audio(audio)\n",
    "\n",
    "        except sr.WaitTimeoutError:\n",
    "            print(\"No speech detected. Timeout.\")\n",
    "\n",
    "def recognize_uploaded_file(file_path):\n",
    "    recognizer = sr.Recognizer()\n",
    "\n",
    "    with sr.AudioFile(file_path) as source:\n",
    "        print(f\"Recognizing audio from file: {file_path}...\")\n",
    "        audio = recognizer.record(source)\n",
    "        recognize_audio(audio)\n",
    "\n",
    "if __name__ == \"__main__\":\n",
    "    print(\"Choose an option:\")\n",
    "    print(\"1. Real-time microphone input\")\n",
    "    print(\"2. Upload a file\")\n",
    "\n",
    "    choice = input(\"Enter your choice (1 or 2): \")\n",
    "\n",
    "    if choice == \"1\":\n",
    "        listen_microphone()\n",
    "    elif choice == \"2\":\n",
    "        file_path = input(\"Enter the path to the audio file: \")\n",
    "        recognize_uploaded_file(file_path)\n",
    "    else:\n",
    "        print(\"Invalid choice. Please enter 1 or 2.\")\n"
   ]
  }
 ],
 "metadata": {
  "kernelspec": {
   "display_name": "Python 3",
   "language": "python",
   "name": "python3"
  },
  "language_info": {
   "codemirror_mode": {
    "name": "ipython",
    "version": 3
   },
   "file_extension": ".py",
   "mimetype": "text/x-python",
   "name": "python",
   "nbconvert_exporter": "python",
   "pygments_lexer": "ipython3",
   "version": "3.8.8"
  }
 },
 "nbformat": 4,
 "nbformat_minor": 5
}
